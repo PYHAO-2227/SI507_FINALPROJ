{
 "cells": [
  {
   "cell_type": "code",
   "execution_count": 1,
   "metadata": {
    "id": "qslcI0cXYix2"
   },
   "outputs": [],
   "source": [
    "import json\n",
    "import csv\n",
    "import requests\n",
    "import secrets\n"
   ]
  },
  {
   "cell_type": "code",
   "execution_count": 2,
   "metadata": {
    "id": "E3kvZtPDZF3y"
   },
   "outputs": [],
   "source": [
    "def generate_new_token(authorisation_code: str, code_verifier: str) -> dict:\n",
    "    global ID, SECRET\n",
    "\n",
    "    url = 'https://myanimelist.net/v1/oauth2/token'\n",
    "    data = {\n",
    "        'client_id': ID,\n",
    "        'client_secret': SECRET,\n",
    "        'code': authorisation_code,\n",
    "        'code_verifier': code_verifier,\n",
    "        'grant_type': 'authorization_code'\n",
    "    }\n",
    "\n",
    "    response = requests.post(url, data)\n",
    "    response.raise_for_status()\n",
    "\n",
    "    token = response.json()\n",
    "    response.close()\n",
    "    print('Token get!')\n",
    "\n",
    "    with open('token.json', 'w') as file:\n",
    "        json.dump(token, file, indent=4)\n",
    "    return token\n"
   ]
  },
  {
   "cell_type": "code",
   "execution_count": 3,
   "metadata": {},
   "outputs": [],
   "source": [
    "ID = '8d901c092043ca3feb46566a86dd4673'\n",
    "SECRET = '05ac1742517c8e4d14ebc6f8cbccf4f77f44ea091f3c6fe234087d304a8573f3'\n"
   ]
  },
  {
   "cell_type": "code",
   "execution_count": 4,
   "metadata": {},
   "outputs": [],
   "source": [
    "def get_code_verifier() -> str:\n",
    "    token = secrets.token_urlsafe(100)\n",
    "    return token[:128]\n",
    "\n",
    "code_verifier = code_challenge = get_code_verifier()\n"
   ]
  },
  {
   "cell_type": "code",
   "execution_count": 5,
   "metadata": {},
   "outputs": [
    {
     "name": "stdout",
     "output_type": "stream",
     "text": [
      "Plz clicking here: https://myanimelist.net/v1/oauth2/authorize?response_type=code&client_id=8d901c092043ca3feb46566a86dd4673&code_challenge=UFw5o9BMf68Mo1aMCNLCvvrNx-GtE0g1qqMagrZg3PHyzjm3iq-dVs1_Umq5fdWL3qWzBYLVGUz6us66h1_qir6TOciMiXYqhY2o_iFK4G64dJ0QOr9qqz3K8jtJVdAS\n",
      "\n"
     ]
    }
   ],
   "source": [
    "def print_url(code_challenge: str):\n",
    "    global ID\n",
    "    url = f'https://myanimelist.net/v1/oauth2/authorize?response_type=code&client_id={ID}&code_challenge={code_challenge}'\n",
    "    print(f'Plz clicking here: {url}\\n')\n",
    "\n",
    "print_url(code_challenge)\n"
   ]
  },
  {
   "cell_type": "markdown",
   "metadata": {},
   "source": [
    "Follow this link and get oauth code. Then input the code."
   ]
  },
  {
   "cell_type": "code",
   "execution_count": 7,
   "metadata": {
    "colab": {
     "base_uri": "https://localhost:8080/"
    },
    "id": "oby5bWLKZJ7q",
    "outputId": "d86a58bf-d7f7-4e98-ea0d-2b29caef5675"
   },
   "outputs": [
    {
     "name": "stdout",
     "output_type": "stream",
     "text": [
      "Token get!\n"
     ]
    }
   ],
   "source": [
    "authorisation_code = input('Plz input the Authorisation Code: ').strip()\n",
    "token = generate_new_token(authorisation_code, code_verifier)\n"
   ]
  },
  {
   "cell_type": "markdown",
   "metadata": {
    "id": "xF3lJCKJfO1x"
   },
   "source": [
    "Note: fail to correctly receive the callback of authentication. My original redirect URI is localhost/oauth, however, since I don't have an application on that port, this page won't be loaded. However, I found the returned authorization code in the url. I can build a server on localhost next time and listen for the code"
   ]
  },
  {
   "cell_type": "code",
   "execution_count": 8,
   "metadata": {
    "id": "XH7DmIVk2nhz"
   },
   "outputs": [],
   "source": [
    "def get_anime_list(year, season, url=''):\n",
    "    if len(url) == 0:\n",
    "        url = 'https://api.myanimelist.net/v2/anime/season/{}/{}'.format(\n",
    "            year, season)\n",
    "    response = requests.get(url, headers={\n",
    "        'Authorization': f\"Bearer {token['access_token']}\"\n",
    "    })\n",
    "    response.raise_for_status()\n",
    "    al = response.json()\n",
    "    response.close()\n",
    "    return al\n"
   ]
  },
  {
   "cell_type": "code",
   "execution_count": 21,
   "metadata": {},
   "outputs": [],
   "source": [
    "def get_anime_info(anime_id):\n",
    "    url = 'https://api.myanimelist.net/v2/anime/{}?fields=id,title,main_picture,alternative_titles,start_date,end_date,type,synopsis,mean,rank,popularity,num_list_users,num_scoring_users,nsfw,created_at,updated_at,media_type,status,genres,my_list_status,num_episodes,start_season,broadcast,source,average_episode_duration,rating,pictures,background,related_anime,related_manga,recommendations,studios,statistics'.format(\n",
    "        anime_id)\n",
    "    response = requests.get(url, headers={\n",
    "        'Authorization': f\"Bearer {token['access_token']}\"\n",
    "    })\n",
    "\n",
    "    response.raise_for_status()\n",
    "    al = response.json()\n",
    "    response.close()\n",
    "    return [al['id'], al['title'], al.get('start_date', ''), al.get('end_date', ''), al.get('mean', ''), al.get('rank', ''), al.get('popularity', ''),\n",
    "            al.get('num_scoring_users', ''), al.get('media_type', ''), \"+\".join(\n",
    "                [genre['name'] for genre in al.get('genres', [])]), al.get('num_episodes', 0),\n",
    "            al['start_season']['year'], al['start_season']['season'], al.get('broadcast', {}).get(\n",
    "                'day_of_the_week', ''), al.get('broadcast', {}).get('start_time', ''), al.get('source', ''),\n",
    "            al.get('average_episode_duration', 0), int(al['statistics']['status']['watching']), int(\n",
    "                al['statistics']['status']['completed']), int(al['statistics']['status']['on_hold']),\n",
    "            int(al['statistics']['status']['dropped']), int(al['statistics']['status']['plan_to_watch'])]\n"
   ]
  },
  {
   "cell_type": "code",
   "execution_count": 22,
   "metadata": {
    "id": "SltwGUMFmdIe"
   },
   "outputs": [],
   "source": [
    "def store_anime_info(seasons, years):\n",
    "    # data = [[\"id\", \"title\", \"start_date\", \"end_date\", \"mean\", \"rank\", \"popularity\", \"num_scoring_users\", \"media_type\", \"genres\", \"num_episodes\",\n",
    "    #          \"year\", \"season\", \"day_of_the_week\", \"start_time\", \"source\", \"average_episode_duration\", 'watching', \"completed\", \"on_hold\", \"dropped\", \"plan_to_watch\"]]\n",
    "    # with open(\"anime.csv\", \"w\", encoding='utf-8', newline='') as f:\n",
    "    #   writer = csv.writer(f)\n",
    "    #   writer.writerows(data)\n",
    "    for year in years:\n",
    "        for season in seasons:\n",
    "            data = []\n",
    "            nxt = ''\n",
    "            Start = False\n",
    "            while nxt != '' or not Start:\n",
    "                Start = True\n",
    "                animes_list = get_anime_list(year, season, nxt)\n",
    "                for anime in animes_list['data']:\n",
    "                    data.append(get_anime_info(anime['node']['id']))\n",
    "                nxt = animes_list.get('paging', {}).get('nxt', '')\n",
    "            with open(\"anime.csv\", \"a\", encoding='utf-8', newline='') as f:\n",
    "                writer = csv.writer(f)\n",
    "                writer.writerows(data)\n"
   ]
  },
  {
   "cell_type": "code",
   "execution_count": 23,
   "metadata": {
    "colab": {
     "background_save": true,
     "base_uri": "https://localhost:8080/"
    },
    "id": "4oPH9PTRMAG4",
    "outputId": "132b380f-bec1-4b9e-bc9a-0ae79daa3cb1"
   },
   "outputs": [],
   "source": [
    "seasons = ['spring', 'summer', 'fall', 'winter']\n",
    "years = range(2021, 2022)\n",
    "animes = store_anime_info(seasons, years)\n"
   ]
  },
  {
   "cell_type": "markdown",
   "metadata": {
    "id": "AN51IVH9VseT"
   },
   "source": [
    "The collected data anime from Myanimelist."
   ]
  },
  {
   "cell_type": "code",
   "execution_count": 4,
   "metadata": {},
   "outputs": [],
   "source": [
    "class TreeNode:\n",
    "    def __init__(self,id,val):\n",
    "        self.id = id\n",
    "        self.val = val\n",
    "        self.left = None\n",
    "        self.right = None\n"
   ]
  },
  {
   "cell_type": "code",
   "execution_count": 16,
   "metadata": {},
   "outputs": [],
   "source": [
    "class Tree:\n",
    "    def insert(self,root,id,val):\n",
    "        if root == None:\n",
    "            root = TreeNode(id,val)\n",
    "        elif val <= root.val:\n",
    "            root.left = self.insert(root.left, id, val)\n",
    "        elif val > root.val:\n",
    "            root.right = self.insert(root.right, id, val)\n",
    "        return root\n",
    "    \n",
    "    def query(self, root, val):\n",
    "        if root == None:\n",
    "            return False\n",
    "        if root.val == val:\n",
    "            return True\n",
    "        elif val < root.val:\n",
    "            return self.query(root.left, val)\n",
    "        elif val > root.val:\n",
    "            return self.query(root.right, val)\n",
    "\n",
    "    def findMin(self, root):\n",
    "        if root.left:\n",
    "            return self.findMin(root.left)\n",
    "        else:\n",
    "            return root\n",
    "\n",
    "    def printTree(self, root):\n",
    "        if root == None:\n",
    "            return \n",
    "        self.printTree(root.left)\n",
    "        print(root.id, end = ' ')\n",
    "        print(root.val, end = '/n')\n",
    "        self.printTree(root.right) \n"
   ]
  },
  {
   "cell_type": "code",
   "execution_count": 23,
   "metadata": {},
   "outputs": [
    {
     "data": {
      "text/plain": [
       "1"
      ]
     },
     "execution_count": 23,
     "metadata": {},
     "output_type": "execute_result"
    }
   ],
   "source": [
    "import csv\n",
    "import json\n",
    "import pandas as pd\n",
    "csvfile = open('anime.csv', 'r', encoding = \"ISO-8859-1\")\n",
    "jsonfile = open('json.json','w')\n",
    "namesss = pd.read_csv('anime.csv', encoding = \"ISO-8859-1\")\n",
    "fieldnames1 = namesss.columns\n",
    "aaaa = tuple(fieldnames1)\n",
    "reader = csv.DictReader(csvfile,aaaa)\n",
    "jsonfile.write('[')\n",
    "for row in reader:\n",
    "    json.dump(row,jsonfile,indent=4)\n",
    "    jsonfile.write(',\\n')\n",
    "jsonfile.write(']')"
   ]
  }
 ],
 "metadata": {
  "colab": {
   "collapsed_sections": [],
   "name": "animeRec.ipynb",
   "provenance": [],
   "toc_visible": true
  },
  "kernelspec": {
   "display_name": "Python 3",
   "language": "python",
   "name": "python3"
  },
  "language_info": {
   "codemirror_mode": {
    "name": "ipython",
    "version": 3
   },
   "file_extension": ".py",
   "mimetype": "text/x-python",
   "name": "python",
   "nbconvert_exporter": "python",
   "pygments_lexer": "ipython3",
   "version": "3.9.7"
  }
 },
 "nbformat": 4,
 "nbformat_minor": 1
}
